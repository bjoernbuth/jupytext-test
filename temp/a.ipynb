{
 "cells": [
  {
   "cell_type": "code",
   "execution_count": 1,
   "id": "56672214",
   "metadata": {
    "execution": {
     "iopub.execute_input": "2024-03-04T10:25:27.851396Z",
     "iopub.status.busy": "2024-03-04T10:25:27.847395Z",
     "iopub.status.idle": "2024-03-04T10:25:27.859394Z",
     "shell.execute_reply": "2024-03-04T10:25:27.859394Z"
    }
   },
   "outputs": [
    {
     "data": {
      "text/plain": [
       "2"
      ]
     },
     "execution_count": 1,
     "metadata": {},
     "output_type": "execute_result"
    }
   ],
   "source": [
    "1 + 1"
   ]
  },
  {
   "cell_type": "code",
   "execution_count": null,
   "id": "9557c375",
   "metadata": {},
   "outputs": [],
   "source": []
  }
 ],
 "metadata": {
  "jupytext": {
   "cell_metadata_filter": "-all"
  },
  "kernelspec": {
   "display_name": "310",
   "language": "python",
   "name": "310"
  },
  "language_info": {
   "codemirror_mode": {
    "name": "ipython",
    "version": 3
   },
   "file_extension": ".py",
   "mimetype": "text/x-python",
   "name": "python",
   "nbconvert_exporter": "python",
   "pygments_lexer": "ipython3",
   "version": "3.10.4"
  }
 },
 "nbformat": 4,
 "nbformat_minor": 5
}
